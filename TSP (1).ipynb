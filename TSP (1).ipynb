{
 "cells": [
  {
   "cell_type": "code",
   "execution_count": 1,
   "id": "bef671d8",
   "metadata": {},
   "outputs": [],
   "source": [
    "import numpy as np\n",
    "\n",
    "# Nearest Neighbor algorithm implementation\n",
    "def nearest_neighbor(distance_matrix):\n",
    "    n = len(distance_matrix)\n",
    "    visited = [False] * n\n",
    "    tour = [0]  # Start from city 0\n",
    "    visited[0] = True\n",
    "    total_distance = 0  # To accumulate the total distance\n",
    "\n",
    "    for _ in range(1, n):\n",
    "        last_city = tour[-1]\n",
    "        nearest_city = None\n",
    "        nearest_distance = float('inf')\n",
    "\n",
    "        for city in range(n):\n",
    "            if not visited[city]:\n",
    "                distance = distance_matrix[last_city][city]\n",
    "                if distance < nearest_distance:\n",
    "                    nearest_distance = distance\n",
    "                    nearest_city = city\n",
    "\n",
    "        # Add the nearest city to the tour\n",
    "        tour.append(nearest_city)\n",
    "        visited[nearest_city] = True\n",
    "        total_distance += nearest_distance  # Add the distance to the total\n",
    "\n",
    "    # Return to the starting city (i.e., close the tour)\n",
    "    total_distance += distance_matrix[tour[-1]][tour[0]]\n",
    "    tour.append(0)  # Return to city 0\n",
    "    return tour, total_distance"
   ]
  },
  {
   "cell_type": "code",
   "execution_count": 2,
   "id": "c91f3a1d",
   "metadata": {},
   "outputs": [],
   "source": [
    "# Input function to get distance matrix from user\n",
    "def input_distance_matrix():\n",
    "    n = int(input(\"Enter the number of cities: \"))\n",
    "    \n",
    "    # Initialize a matrix to store the distances\n",
    "    distance_matrix = np.zeros((n, n))\n",
    "    \n",
    "    for i in range(n):\n",
    "        for j in range(i+1, n):  # Fill only the upper triangle (no need to enter both [i][j] and [j][i])\n",
    "            distance = float(input(f\"Enter distance between city {i+1} and city {j+1}: \"))\n",
    "            distance_matrix[i][j] = distance\n",
    "            distance_matrix[j][i] = distance  # Since the matrix is symmetric\n",
    "    \n",
    "    return distance_matrix"
   ]
  },
  {
   "cell_type": "code",
   "execution_count": 5,
   "id": "7871865a",
   "metadata": {},
   "outputs": [
    {
     "name": "stdout",
     "output_type": "stream",
     "text": [
      "Enter the number of cities: 4\n",
      "Enter distance between city 1 and city 2: 6\n",
      "Enter distance between city 1 and city 3: 3\n",
      "Enter distance between city 1 and city 4: 5\n",
      "Enter distance between city 2 and city 3: 5\n",
      "Enter distance between city 2 and city 4: 2\n",
      "Enter distance between city 3 and city 4: 4\n",
      "\n",
      "Distance Matrix:\n",
      "[[0. 6. 3. 5.]\n",
      " [6. 0. 5. 2.]\n",
      " [3. 5. 0. 4.]\n",
      " [5. 2. 4. 0.]]\n",
      "\n",
      "The nearest neighbor tour is: [1, 3, 4, 2, 1]\n",
      "Total distance of the tour: 15.0\n"
     ]
    }
   ],
   "source": [
    "# Main function to execute the code\n",
    "def main():\n",
    "    distance_matrix = input_distance_matrix()\n",
    "\n",
    "    print(\"\\nDistance Matrix:\")\n",
    "    print(distance_matrix)\n",
    "\n",
    "    # Run the Nearest Neighbor algorithm\n",
    "    tour, total_distance = nearest_neighbor(distance_matrix)\n",
    "    \n",
    "    # Print the tour and total distance\n",
    "    print(\"\\nThe nearest neighbor tour is:\", [city + 1 for city in tour])  # Output cities as 1-indexed\n",
    "    print(\"Total distance of the tour:\", total_distance)\n",
    "\n",
    "if __name__ == \"__main__\":\n",
    "    main()"
   ]
  }
 ],
 "metadata": {
  "kernelspec": {
   "display_name": "Python 3 (ipykernel)",
   "language": "python",
   "name": "python3"
  },
  "language_info": {
   "codemirror_mode": {
    "name": "ipython",
    "version": 3
   },
   "file_extension": ".py",
   "mimetype": "text/x-python",
   "name": "python",
   "nbconvert_exporter": "python",
   "pygments_lexer": "ipython3",
   "version": "3.11.5"
  }
 },
 "nbformat": 4,
 "nbformat_minor": 5
}
