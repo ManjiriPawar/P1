{
 "cells": [
  {
   "cell_type": "code",
   "execution_count": 1,
   "id": "f20a29bb",
   "metadata": {},
   "outputs": [
    {
     "name": "stdout",
     "output_type": "stream",
     "text": [
      "Enter capacity of Jug 1: 5\n",
      "Enter capacity of Jug 2: 6\n",
      "Enter amount to be measured: 3\n",
      "JUG1\tJUG2\n",
      "0\t0\n",
      "5\t0\n",
      "0\t5\n",
      "5\t5\n",
      "4\t6\n",
      "0\t4\n",
      "5\t4\n",
      "3\t6\n"
     ]
    }
   ],
   "source": [
    "def pour(jug1, jug2, max1, max2, fill):\n",
    "    print(\"%d\\t%d\" % (jug1, jug2))\n",
    "\n",
    "    if jug2 == fill or jug1 == fill:  # Stop when either jug reaches the desired amount\n",
    "        return\n",
    "    elif jug2 == max2:  # If second jug is full, empty it\n",
    "        pour(0, jug1, max1, max2, fill)\n",
    "    elif jug1 != 0 and jug2 == 0:  # If first jug has water but second is empty, pour into second jug\n",
    "        pour(0, jug1, max1, max2, fill)\n",
    "    elif jug1 == fill:  # If first jug reaches the required amount, stop\n",
    "        pour(jug1, 0, max1, max2, fill)\n",
    "    elif jug1 < max1:  # Fill the first jug completely\n",
    "        pour(max1, jug2, max1, max2, fill)\n",
    "    elif jug1 < (max2 - jug2):  # Pour from first to second jug if space allows\n",
    "        pour(0, (jug1 + jug2), max1, max2, fill)\n",
    "    else:  # Pour as much as possible from the first to the second jug\n",
    "        pour(jug1 - (max2 - jug2), (max2 - jug2) + jug2, max1, max2, fill)\n",
    "\n",
    "# Take user input\n",
    "max1 = int(input(\"Enter capacity of Jug 1: \"))\n",
    "max2 = int(input(\"Enter capacity of Jug 2: \"))\n",
    "fill = int(input(\"Enter amount to be measured: \"))\n",
    "\n",
    "print(\"JUG1\\tJUG2\")\n",
    "pour(0, 0, max1, max2, fill)"
   ]
  }
 ],
 "metadata": {
  "kernelspec": {
   "display_name": "Python 3 (ipykernel)",
   "language": "python",
   "name": "python3"
  },
  "language_info": {
   "codemirror_mode": {
    "name": "ipython",
    "version": 3
   },
   "file_extension": ".py",
   "mimetype": "text/x-python",
   "name": "python",
   "nbconvert_exporter": "python",
   "pygments_lexer": "ipython3",
   "version": "3.11.5"
  }
 },
 "nbformat": 4,
 "nbformat_minor": 5
}
